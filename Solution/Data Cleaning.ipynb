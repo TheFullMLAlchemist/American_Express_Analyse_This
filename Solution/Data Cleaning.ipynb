{
 "cells": [
  {
   "cell_type": "code",
   "execution_count": 1,
   "metadata": {},
   "outputs": [
    {
     "name": "stderr",
     "output_type": "stream",
     "text": [
      "/home/tannmay/anaconda3/lib/python3.6/importlib/_bootstrap.py:219: RuntimeWarning: numpy.dtype size changed, may indicate binary incompatibility. Expected 96, got 88\n",
      "  return f(*args, **kwds)\n",
      "/home/tannmay/anaconda3/lib/python3.6/importlib/_bootstrap.py:219: RuntimeWarning: numpy.dtype size changed, may indicate binary incompatibility. Expected 96, got 88\n",
      "  return f(*args, **kwds)\n"
     ]
    }
   ],
   "source": [
    "# This Python 3 environment comes with many helpful analytics libraries installed\n",
    "# It is defined by the kaggle/python docker image: https://github.com/kaggle/docker-python\n",
    "# For example, here's several helpful packages to load in \n",
    "\n",
    "import numpy as np # linear algebra\n",
    "import pandas as pd # data processing, CSV file I/O (e.g. pd.read_csv)\n",
    "\n",
    "# Input data files are available in the \"../input/\" directory.\n",
    "# For example, running this (by clicking run or pressing Shift+Enter) will list the files in the input directory\n",
    "\n",
    "import os\n",
    "import math\n",
    "# Any results you write to the current directory are saved as output."
   ]
  },
  {
   "cell_type": "code",
   "execution_count": 10,
   "metadata": {},
   "outputs": [
    {
     "name": "stderr",
     "output_type": "stream",
     "text": [
      "/home/tannmay/.local/lib/python3.6/site-packages/IPython/core/interactiveshell.py:2785: DtypeWarning: Columns (19) have mixed types. Specify dtype option on import or set low_memory=False.\n",
      "  interactivity=interactivity, compiler=compiler, result=result)\n"
     ]
    }
   ],
   "source": [
    "x_train = pd.read_csv(\"Training_dataset_Original.csv\")\n",
    "test = pd.read_csv(\"Leaderboard_dataset.csv\")\n",
    "val_X = pd.read_csv(\"Evaluation_dataset.csv\")\n",
    "dic_df = pd.read_csv(\"Data_Dictionary.csv\")"
   ]
  },
  {
   "cell_type": "code",
   "execution_count": 11,
   "metadata": {},
   "outputs": [
    {
     "data": {
      "text/plain": [
       "(25000, 48)"
      ]
     },
     "execution_count": 11,
     "metadata": {},
     "output_type": "execute_result"
    }
   ],
   "source": [
    "test.shape "
   ]
  },
  {
   "cell_type": "code",
   "execution_count": 12,
   "metadata": {},
   "outputs": [],
   "source": [
    "ID = test[\"application_key\"]\n",
    "test = test.drop(\"application_key\", axis=1)"
   ]
  },
  {
   "cell_type": "code",
   "execution_count": 13,
   "metadata": {},
   "outputs": [
    {
     "data": {
      "text/plain": [
       "(25000, 47)"
      ]
     },
     "execution_count": 13,
     "metadata": {},
     "output_type": "execute_result"
    }
   ],
   "source": [
    "test.shape"
   ]
  },
  {
   "cell_type": "code",
   "execution_count": 14,
   "metadata": {},
   "outputs": [],
   "source": [
    "# import matplotlib.pyplot as plt\n",
    "# X_train[X_train.dtypes[(X_train.dtypes==\"float64\")|(X_train.dtypes==\"int64\")]\n",
    "#                         .index.values].hist(figsize=[11,11])"
   ]
  },
  {
   "cell_type": "code",
   "execution_count": 15,
   "metadata": {},
   "outputs": [],
   "source": [
    "# len(train_df)\n",
    "# len(val_df)\n",
    "# len(sub_test)\n",
    "# display(dic_df)\n",
    "# train_df.head()\n",
    "# val_df.head()"
   ]
  },
  {
   "cell_type": "code",
   "execution_count": 17,
   "metadata": {},
   "outputs": [],
   "source": [
    "cols = list(x_train.columns.values)\n"
   ]
  },
  {
   "cell_type": "code",
   "execution_count": 20,
   "metadata": {},
   "outputs": [
    {
     "data": {
      "text/html": [
       "<div>\n",
       "<style scoped>\n",
       "    .dataframe tbody tr th:only-of-type {\n",
       "        vertical-align: middle;\n",
       "    }\n",
       "\n",
       "    .dataframe tbody tr th {\n",
       "        vertical-align: top;\n",
       "    }\n",
       "\n",
       "    .dataframe thead th {\n",
       "        text-align: right;\n",
       "    }\n",
       "</style>\n",
       "<table border=\"1\" class=\"dataframe\">\n",
       "  <thead>\n",
       "    <tr style=\"text-align: right;\">\n",
       "      <th></th>\n",
       "      <th>mvar1</th>\n",
       "      <th>mvar2</th>\n",
       "      <th>mvar3</th>\n",
       "      <th>mvar4</th>\n",
       "      <th>mvar5</th>\n",
       "      <th>mvar6</th>\n",
       "      <th>mvar7</th>\n",
       "      <th>mvar8</th>\n",
       "      <th>mvar9</th>\n",
       "      <th>mvar10</th>\n",
       "      <th>...</th>\n",
       "      <th>mvar38</th>\n",
       "      <th>mvar39</th>\n",
       "      <th>mvar40</th>\n",
       "      <th>mvar41</th>\n",
       "      <th>mvar42</th>\n",
       "      <th>mvar43</th>\n",
       "      <th>mvar44</th>\n",
       "      <th>mvar45</th>\n",
       "      <th>mvar46</th>\n",
       "      <th>mvar47</th>\n",
       "    </tr>\n",
       "  </thead>\n",
       "  <tbody>\n",
       "    <tr>\n",
       "      <th>0</th>\n",
       "      <td>1696</td>\n",
       "      <td>1.6541</td>\n",
       "      <td>0.000</td>\n",
       "      <td>0.0</td>\n",
       "      <td>0.0</td>\n",
       "      <td>0</td>\n",
       "      <td>6015</td>\n",
       "      <td>322</td>\n",
       "      <td>40369</td>\n",
       "      <td>18414</td>\n",
       "      <td>...</td>\n",
       "      <td>4</td>\n",
       "      <td>1</td>\n",
       "      <td>73.78</td>\n",
       "      <td>82.547</td>\n",
       "      <td>0.08696</td>\n",
       "      <td>10</td>\n",
       "      <td>0.63899</td>\n",
       "      <td>na</td>\n",
       "      <td>0</td>\n",
       "      <td>C</td>\n",
       "    </tr>\n",
       "    <tr>\n",
       "      <th>1</th>\n",
       "      <td>1846</td>\n",
       "      <td>0.8095</td>\n",
       "      <td>0.000</td>\n",
       "      <td>0.0</td>\n",
       "      <td>0.0</td>\n",
       "      <td>102</td>\n",
       "      <td>7532</td>\n",
       "      <td>3171</td>\n",
       "      <td>18234</td>\n",
       "      <td>13664</td>\n",
       "      <td>...</td>\n",
       "      <td>2</td>\n",
       "      <td>0</td>\n",
       "      <td>99.129</td>\n",
       "      <td>missing</td>\n",
       "      <td>0</td>\n",
       "      <td>13</td>\n",
       "      <td>0.63836</td>\n",
       "      <td>na</td>\n",
       "      <td>na</td>\n",
       "      <td>L</td>\n",
       "    </tr>\n",
       "    <tr>\n",
       "      <th>2</th>\n",
       "      <td>1745</td>\n",
       "      <td>0.4001</td>\n",
       "      <td>0.000</td>\n",
       "      <td>0.0</td>\n",
       "      <td>0.0</td>\n",
       "      <td>missing</td>\n",
       "      <td>2536</td>\n",
       "      <td>missing</td>\n",
       "      <td>missing</td>\n",
       "      <td>2536</td>\n",
       "      <td>...</td>\n",
       "      <td>1</td>\n",
       "      <td>0</td>\n",
       "      <td>missing</td>\n",
       "      <td>29.29</td>\n",
       "      <td>0</td>\n",
       "      <td>1</td>\n",
       "      <td>1.00000</td>\n",
       "      <td>na</td>\n",
       "      <td>0</td>\n",
       "      <td>C</td>\n",
       "    </tr>\n",
       "    <tr>\n",
       "      <th>3</th>\n",
       "      <td>1739</td>\n",
       "      <td>0.2193</td>\n",
       "      <td>0.000</td>\n",
       "      <td>0.0</td>\n",
       "      <td>0.0</td>\n",
       "      <td>1982</td>\n",
       "      <td>26440</td>\n",
       "      <td>4955</td>\n",
       "      <td>20316</td>\n",
       "      <td>37013</td>\n",
       "      <td>...</td>\n",
       "      <td>2</td>\n",
       "      <td>0</td>\n",
       "      <td>96.272</td>\n",
       "      <td>missing</td>\n",
       "      <td>0.15385</td>\n",
       "      <td>3</td>\n",
       "      <td>0.53241</td>\n",
       "      <td>0</td>\n",
       "      <td>0</td>\n",
       "      <td>L</td>\n",
       "    </tr>\n",
       "    <tr>\n",
       "      <th>4</th>\n",
       "      <td>1787</td>\n",
       "      <td>0.0118</td>\n",
       "      <td>0.225</td>\n",
       "      <td>0.0</td>\n",
       "      <td>0.0</td>\n",
       "      <td>5451</td>\n",
       "      <td>5494</td>\n",
       "      <td>5494</td>\n",
       "      <td>7987</td>\n",
       "      <td>4696</td>\n",
       "      <td>...</td>\n",
       "      <td>2</td>\n",
       "      <td>0</td>\n",
       "      <td>115.019</td>\n",
       "      <td>missing</td>\n",
       "      <td>0</td>\n",
       "      <td>1</td>\n",
       "      <td>0.92665</td>\n",
       "      <td>na</td>\n",
       "      <td>na</td>\n",
       "      <td>L</td>\n",
       "    </tr>\n",
       "  </tbody>\n",
       "</table>\n",
       "<p>5 rows × 47 columns</p>\n",
       "</div>"
      ],
      "text/plain": [
       "  mvar1   mvar2  mvar3  mvar4  mvar5    mvar6  mvar7    mvar8    mvar9 mvar10  \\\n",
       "0  1696  1.6541  0.000    0.0    0.0        0   6015      322    40369  18414   \n",
       "1  1846  0.8095  0.000    0.0    0.0      102   7532     3171    18234  13664   \n",
       "2  1745  0.4001  0.000    0.0    0.0  missing   2536  missing  missing   2536   \n",
       "3  1739  0.2193  0.000    0.0    0.0     1982  26440     4955    20316  37013   \n",
       "4  1787  0.0118  0.225    0.0    0.0     5451   5494     5494     7987   4696   \n",
       "\n",
       "   ...   mvar38 mvar39   mvar40   mvar41   mvar42 mvar43   mvar44 mvar45  \\\n",
       "0  ...        4      1    73.78   82.547  0.08696     10  0.63899     na   \n",
       "1  ...        2      0   99.129  missing        0     13  0.63836     na   \n",
       "2  ...        1      0  missing    29.29        0      1  1.00000     na   \n",
       "3  ...        2      0   96.272  missing  0.15385      3  0.53241      0   \n",
       "4  ...        2      0  115.019  missing        0      1  0.92665     na   \n",
       "\n",
       "  mvar46 mvar47  \n",
       "0      0      C  \n",
       "1     na      L  \n",
       "2      0      C  \n",
       "3      0      L  \n",
       "4     na      L  \n",
       "\n",
       "[5 rows x 47 columns]"
      ]
     },
     "metadata": {},
     "output_type": "display_data"
    },
    {
     "data": {
      "text/plain": [
       "0    0\n",
       "1    1\n",
       "2    1\n",
       "3    0\n",
       "4    0\n",
       "Name: default_ind, dtype: int64"
      ]
     },
     "metadata": {},
     "output_type": "display_data"
    }
   ],
   "source": [
    "y_train = x_train[\"default_ind\"]\n",
    "y_train.head()\n",
    "x_train = x_train.drop('default_ind', axis=1)\n",
    "x_train = x_train.drop('application_key', axis=1)\n",
    "display(x_train.head())\n",
    "display(y_train.head())"
   ]
  },
  {
   "cell_type": "code",
   "execution_count": null,
   "metadata": {},
   "outputs": [],
   "source": []
  },
  {
   "cell_type": "code",
   "execution_count": 21,
   "metadata": {},
   "outputs": [
    {
     "data": {
      "text/plain": [
       "'\\n important features by hand picking\\n mvar1 mvar2 mvar3 mvar14 mvar42\\n\\n mvar3 - mvar4 - mvar5 -> linearly dependent as severity is a function of amount, time since default and number of defaults\\n mvar6-mvar7-mvar8 -> linearly dependent\\n mvar16-mvar17-mvar18-mvar19-mvar20 -> Linearly Dependent\\n mvar21-mvar22-mvar23-mvar24 -> Linearly Dependet\\n mvar25-mvar26-mvar27-mvar28-mvar29-mvar30-mvar31-mvar32 -> Linearly Dependent\\n mvar34-mvar35-mvar36-mvar37-mvar38-mvar39 -> Linearly Dependent\\n mvar14-mvar9 -> linearly dependent\\n\\n Handling\\n mvar2 and dependent terms -> 0\\n mvar3 and dependent terms -> 0\\n mvar6 and dependent terms -> missing -> 0\\n mvar9 and dependent terms -> missing -> mean\\n mvar11 and dependent terms -> mean or 0\\n mvar9 and dependent terms -> mean\\n mvar15 and dependent terms -> mean\\n mvar21 -> mean\\n mvar16 and dependent terms -> 0\\n mvar21 and dependent terms -> mean\\n mvar25 and dependent terms -> mean\\n mvar33 -> mean\\n mvar34 and dependent terms -> mean_floor\\n mvar42 -> mean\\n mvar43 -> mean\\n mvar44 -> mean\\n mvar45 and mvar46 -> 0\\n'"
      ]
     },
     "execution_count": 21,
     "metadata": {},
     "output_type": "execute_result"
    }
   ],
   "source": [
    "# Missing data handling methods\n",
    "\"\"\"\n",
    " important features by hand picking\n",
    " mvar1 mvar2 mvar3 mvar14 mvar42\n",
    "\n",
    " mvar3 - mvar4 - mvar5 -> linearly dependent as severity is a function of amount, time since default and number of defaults\n",
    " mvar6-mvar7-mvar8 -> linearly dependent\n",
    " mvar16-mvar17-mvar18-mvar19-mvar20 -> Linearly Dependent\n",
    " mvar21-mvar22-mvar23-mvar24 -> Linearly Dependet\n",
    " mvar25-mvar26-mvar27-mvar28-mvar29-mvar30-mvar31-mvar32 -> Linearly Dependent\n",
    " mvar34-mvar35-mvar36-mvar37-mvar38-mvar39 -> Linearly Dependent\n",
    " mvar14-mvar9 -> linearly dependent\n",
    "\n",
    " Handling\n",
    " mvar2 and dependent terms -> 0\n",
    " mvar3 and dependent terms -> 0\n",
    " mvar6 and dependent terms -> missing -> 0\n",
    " mvar9 and dependent terms -> missing -> mean\n",
    " mvar11 and dependent terms -> mean or 0\n",
    " mvar9 and dependent terms -> mean\n",
    " mvar15 and dependent terms -> mean\n",
    " mvar21 -> mean\n",
    " mvar16 and dependent terms -> 0\n",
    " mvar21 and dependent terms -> mean\n",
    " mvar25 and dependent terms -> mean\n",
    " mvar33 -> mean\n",
    " mvar34 and dependent terms -> mean_floor\n",
    " mvar42 -> mean\n",
    " mvar43 -> mean\n",
    " mvar44 -> mean\n",
    " mvar45 and mvar46 -> 0\n",
    "\"\"\""
   ]
  },
  {
   "cell_type": "code",
   "execution_count": null,
   "metadata": {},
   "outputs": [],
   "source": []
  },
  {
   "cell_type": "code",
   "execution_count": 22,
   "metadata": {},
   "outputs": [
    {
     "data": {
      "text/plain": [
       "(25000, 47)"
      ]
     },
     "execution_count": 22,
     "metadata": {},
     "output_type": "execute_result"
    }
   ],
   "source": [
    "test.shape"
   ]
  },
  {
   "cell_type": "code",
   "execution_count": null,
   "metadata": {},
   "outputs": [],
   "source": []
  },
  {
   "cell_type": "code",
   "execution_count": 23,
   "metadata": {},
   "outputs": [],
   "source": [
    "def impute_nan(train):\n",
    "    a = []\n",
    "    for i in train:\n",
    "        if math.isnan(i):\n",
    "            continue\n",
    "        else:\n",
    "            a.append(float(i))\n",
    "\n",
    "    np.mean(a)\n",
    "\n",
    "    b = []\n",
    "    for i in train:\n",
    "        if math.isnan(i):\n",
    "            b.append(np.median(a))\n",
    "        else:\n",
    "            b.append(float(i))\n",
    "            \n",
    "            \n",
    "    return b"
   ]
  },
  {
   "cell_type": "code",
   "execution_count": 24,
   "metadata": {},
   "outputs": [],
   "source": [
    "def impute_na(train):\n",
    "    a = []\n",
    "    for i in train:\n",
    "        if i == 'na':\n",
    "            continue\n",
    "        else:\n",
    "            a.append(float(i))\n",
    "\n",
    "    np.median(a)\n",
    "\n",
    "    b = []\n",
    "    for i in train:\n",
    "        if i == 'na':\n",
    "            b.append(np.median(a))\n",
    "        else:\n",
    "            b.append(float(i))\n",
    "            \n",
    "            \n",
    "    return b"
   ]
  },
  {
   "cell_type": "code",
   "execution_count": 25,
   "metadata": {},
   "outputs": [],
   "source": [
    "def impute_missing(train):\n",
    "    a = []\n",
    "    for i in train:\n",
    "        if i == 'missing':\n",
    "            continue\n",
    "        else:\n",
    "            a.append(float(i))\n",
    "\n",
    "    np.median(a)\n",
    "\n",
    "    b = []\n",
    "    for i in train:\n",
    "        if i == 'missing':\n",
    "            b.append(np.median(a))\n",
    "        else:\n",
    "            b.append(float(i))\n",
    "            \n",
    "            \n",
    "    return b"
   ]
  },
  {
   "cell_type": "code",
   "execution_count": 26,
   "metadata": {},
   "outputs": [],
   "source": [
    "def impute_missing_0(train):\n",
    "    b = []\n",
    "    for i in train:\n",
    "        if i == 'missing':\n",
    "            b.append(0)\n",
    "        else:\n",
    "            b.append(float(i))\n",
    "            \n",
    "            \n",
    "    return b"
   ]
  },
  {
   "cell_type": "code",
   "execution_count": 27,
   "metadata": {},
   "outputs": [],
   "source": [
    "def impute_na_0(train):\n",
    "    b = []\n",
    "    for i in train:\n",
    "        if i == 'na':\n",
    "            b.append(0)\n",
    "        else:\n",
    "            b.append(float(i))\n",
    "            \n",
    "            \n",
    "    return b"
   ]
  },
  {
   "cell_type": "code",
   "execution_count": 28,
   "metadata": {},
   "outputs": [],
   "source": [
    "def impute_nan_0(train):\n",
    "    b = []\n",
    "    for i in train:\n",
    "        if math.isnan(i):\n",
    "            b.append(0)\n",
    "        else:\n",
    "            b.append(float(i))\n",
    "            \n",
    "            \n",
    "    return b"
   ]
  },
  {
   "cell_type": "code",
   "execution_count": 29,
   "metadata": {},
   "outputs": [],
   "source": [
    "x_train.mvar1 = impute_na(x_train.mvar1)\n",
    "x_train.mvar16 = impute_na_0(x_train.mvar16)\n",
    "x_train.mvar17 = impute_na_0(x_train.mvar17)\n",
    "x_train.mvar18 = impute_na_0(x_train.mvar18)\n",
    "# x_train.mvar19 = impute_na(x_train.mvar19)\n",
    "# x_train.mvar20 = impute_na(x_train.mvar20)\n",
    "# x_train.mvar34 = impute_na(x_train.mvar34)\n",
    "# x_train.mvar35 = impute_na(x_train.mvar35)\n",
    "x_train.mvar36 = impute_na(x_train.mvar36)\n",
    "x_train.mvar37 = impute_na(x_train.mvar37)\n",
    "x_train.mvar38 = impute_na(x_train.mvar38)\n",
    "x_train.mvar39 = impute_na_0(x_train.mvar39)\n",
    "# x_train.mvar43 = impute_na(x_train.mvar43)\n",
    "x_train.mvar45 = impute_na_0(x_train.mvar45)\n",
    "x_train.mvar46 = impute_na_0(x_train.mvar46)\n",
    "\n",
    "x_train.mvar2 = impute_nan(x_train.mvar2)\n",
    "x_train.mvar3 = impute_nan(x_train.mvar3)\n",
    "x_train.mvar4 = impute_nan(x_train.mvar4)\n",
    "x_train.mvar5 = impute_nan(x_train.mvar5)\n",
    "x_train.mvar21 = impute_nan(x_train.mvar21)\n",
    "x_train.mvar22 = impute_nan(x_train.mvar22)\n",
    "x_train.mvar23 = impute_nan(x_train.mvar23)\n",
    "x_train.mvar24 = impute_nan_0(x_train.mvar24)\n",
    "x_train.mvar33 = impute_nan(x_train.mvar33)\n",
    "x_train.mvar44 = impute_nan_0(x_train.mvar44)\n",
    "\n",
    "x_train.mvar6 = impute_missing(x_train.mvar6)\n",
    "x_train.mvar7 = impute_missing(x_train.mvar7)\n",
    "x_train.mvar8 = impute_missing(x_train.mvar8)\n",
    "x_train.mvar9 = impute_missing(x_train.mvar9)\n",
    "x_train.mvar10 = impute_missing(x_train.mvar10)\n",
    "x_train.mvar11 = impute_missing_0(x_train.mvar11)\n",
    "x_train.mvar12 = impute_missing(x_train.mvar12)\n",
    "x_train.mvar13 = impute_missing(x_train.mvar13)\n",
    "x_train.mvar15 = impute_missing(x_train.mvar15)\n",
    "x_train.mvar25 = impute_missing_0(x_train.mvar25)\n",
    "x_train.mvar26 = impute_missing_0(x_train.mvar26)\n",
    "x_train.mvar27 = impute_missing_0(x_train.mvar27)\n",
    "x_train.mvar28 = impute_missing_0(x_train.mvar28)\n",
    "x_train.mvar29 = impute_missing_0(x_train.mvar29)\n",
    "x_train.mvar30 = impute_missing(x_train.mvar30)\n",
    "x_train.mvar31 = impute_missing(x_train.mvar31)\n",
    "# x_train.mvar32 = impute_missing(x_train.mvar32)\n",
    "\n",
    "x_train.mvar40 = impute_missing(x_train.mvar40)\n",
    "x_train.mvar41 = impute_missing(x_train.mvar41)\n",
    "x_train.mvar42 = impute_missing(x_train.mvar42)\n"
   ]
  },
  {
   "cell_type": "code",
   "execution_count": 30,
   "metadata": {},
   "outputs": [],
   "source": [
    "d0 = pd.DataFrame(data=x_train)\n",
    "d0.to_csv(\"x_train_imputed.csv\", index=False)"
   ]
  },
  {
   "cell_type": "code",
   "execution_count": 33,
   "metadata": {},
   "outputs": [],
   "source": [
    "val_X = val_X.drop(\"application_key\", axis=1)"
   ]
  },
  {
   "cell_type": "code",
   "execution_count": null,
   "metadata": {},
   "outputs": [],
   "source": [
    "val_X.mvar1 = impute_na(val_X.mvar1)\n",
    "val_X.mvar16 = impute_na_0(val_X.mvar16)\n",
    "val_X.mvar17 = impute_na_0(val_X.mvar17)\n",
    "val_X.mvar18 = impute_na_0(val_X.mvar18)\n",
    "# val_X.mvar19 = impute_na(val_X.mvar19)\n",
    "# val_X.mvar20 = impute_na(val_X.mvar20)\n",
    "# val_X.mvar34 = impute_na(val_X.mvar34)\n",
    "# val_X.mvar35 = impute_na(val_X.mvar35)\n",
    "val_X.mvar36 = impute_na(val_X.mvar36)\n",
    "val_X.mvar37 = impute_na(val_X.mvar37)\n",
    "val_X.mvar38 = impute_na(val_X.mvar38)\n",
    "val_X.mvar39 = impute_na_0(val_X.mvar39)\n",
    "# val_X.mvar43 = impute_na(val_X.mvar43)\n",
    "val_X.mvar45 = impute_na_0(val_X.mvar45)\n",
    "val_X.mvar46 = impute_na_0(val_X.mvar46)\n",
    "\n",
    "val_X.mvar2 = impute_nan(val_X.mvar2)\n",
    "val_X.mvar3 = impute_nan(val_X.mvar3)\n",
    "val_X.mvar4 = impute_nan(val_X.mvar4)\n",
    "val_X.mvar5 = impute_nan(val_X.mvar5)\n",
    "val_X.mvar21 = impute_nan(val_X.mvar21)\n",
    "val_X.mvar22 = impute_nan(val_X.mvar22)\n",
    "val_X.mvar23 = impute_nan(val_X.mvar23)\n",
    "val_X.mvar24 = impute_nan_0(val_X.mvar24)\n",
    "val_X.mvar33 = impute_nan(val_X.mvar33)\n",
    "val_X.mvar44 = impute_nan_0(val_X.mvar44)\n",
    "\n",
    "val_X.mvar6 = impute_missing(val_X.mvar6)\n",
    "val_X.mvar7 = impute_missing(val_X.mvar7)\n",
    "val_X.mvar8 = impute_missing(val_X.mvar8)\n",
    "val_X.mvar9 = impute_missing(val_X.mvar9)\n",
    "val_X.mvar10 = impute_missing(val_X.mvar10)\n",
    "val_X.mvar11 = impute_missing_0(val_X.mvar11)\n",
    "val_X.mvar12 = impute_missing(val_X.mvar12)\n",
    "val_X.mvar13 = impute_missing(val_X.mvar13)\n",
    "val_X.mvar15 = impute_missing(val_X.mvar15)\n",
    "val_X.mvar25 = impute_missing_0(val_X.mvar25)\n",
    "val_X.mvar26 = impute_missing_0(val_X.mvar26)\n",
    "val_X.mvar27 = impute_missing_0(val_X.mvar27)\n",
    "val_X.mvar28 = impute_missing_0(val_X.mvar28)\n",
    "val_X.mvar29 = impute_missing_0(val_X.mvar29)\n",
    "val_X.mvar30 = impute_missing(val_X.mvar30)\n",
    "val_X.mvar31 = impute_missing(val_X.mvar31)\n",
    "# val_X.mvar32 = impute_missing(val_X.mvar32)\n",
    "\n",
    "val_X.mvar40 = impute_missing(val_X.mvar40)\n",
    "val_X.mvar41 = impute_missing(val_X.mvar41)\n",
    "val_X.mvar42 = impute_missing(val_X.mvar42)"
   ]
  },
  {
   "cell_type": "code",
   "execution_count": null,
   "metadata": {},
   "outputs": [],
   "source": [
    "d1 = pd.DataFrame(data=val_X)\n",
    "d1.to_csv(\"val_X_imputed.csv\", index=False)"
   ]
  },
  {
   "cell_type": "code",
   "execution_count": null,
   "metadata": {},
   "outputs": [],
   "source": [
    "test.mvar1 = impute_na(test.mvar1)\n",
    "test.mvar16 = impute_na_0(test.mvar16)\n",
    "test.mvar17 = impute_na_0(test.mvar17)\n",
    "test.mvar18 = impute_na_0(test.mvar18)\n",
    "# test.mvar19 = impute_na(test.mvar19)\n",
    "# test.mvar20 = impute_na(test.mvar20)\n",
    "# test.mvar34 = impute_na(test.mvar34)\n",
    "# test.mvar35 = impute_na(test.mvar35)\n",
    "test.mvar36 = impute_na(test.mvar36)\n",
    "test.mvar37 = impute_na(test.mvar37)\n",
    "test.mvar38 = impute_na(test.mvar38)\n",
    "test.mvar39 = impute_na_0(test.mvar39)\n",
    "# test.mvar43 = impute_na(test.mvar43)\n",
    "test.mvar45 = impute_na_0(test.mvar45)\n",
    "test.mvar46 = impute_na_0(test.mvar46)\n",
    "\n",
    "test.mvar2 = impute_nan(test.mvar2)\n",
    "test.mvar3 = impute_nan(test.mvar3)\n",
    "test.mvar4 = impute_nan(test.mvar4)\n",
    "test.mvar5 = impute_nan(test.mvar5)\n",
    "test.mvar21 = impute_nan(test.mvar21)\n",
    "test.mvar22 = impute_nan(test.mvar22)\n",
    "test.mvar23 = impute_nan(test.mvar23)\n",
    "test.mvar24 = impute_nan_0(test.mvar24)\n",
    "test.mvar33 = impute_nan(test.mvar33)\n",
    "test.mvar44 = impute_nan_0(test.mvar44)\n",
    "\n",
    "test.mvar6 = impute_missing(test.mvar6)\n",
    "test.mvar7 = impute_missing(test.mvar7)\n",
    "test.mvar8 = impute_missing(test.mvar8)\n",
    "test.mvar9 = impute_missing(test.mvar9)\n",
    "test.mvar10 = impute_missing(test.mvar10)\n",
    "test.mvar11 = impute_missing_0(test.mvar11)\n",
    "test.mvar12 = impute_missing(test.mvar12)\n",
    "test.mvar13 = impute_missing(test.mvar13)\n",
    "test.mvar15 = impute_missing(test.mvar15)\n",
    "test.mvar25 = impute_missing_0(test.mvar25)\n",
    "test.mvar26 = impute_missing_0(test.mvar26)\n",
    "test.mvar27 = impute_missing_0(test.mvar27)\n",
    "test.mvar28 = impute_missing_0(test.mvar28)\n",
    "test.mvar29 = impute_missing_0(test.mvar29)\n",
    "test.mvar30 = impute_missing(test.mvar30)\n",
    "test.mvar31 = impute_missing(test.mvar31)\n",
    "# test.mvar32 = impute_missing(test.mvar32)\n",
    "\n",
    "test.mvar40 = impute_missing(test.mvar40)\n",
    "test.mvar41 = impute_missing(test.mvar41)\n",
    "test.mvar42 = impute_missing(test.mvar42)"
   ]
  },
  {
   "cell_type": "code",
   "execution_count": null,
   "metadata": {},
   "outputs": [],
   "source": [
    "d = pd.DataFrame(data=y_train)\n",
    "d.to_csv(\"y_train_imputed.csv\", index=False)"
   ]
  },
  {
   "cell_type": "code",
   "execution_count": 344,
   "metadata": {},
   "outputs": [],
   "source": [
    "\n",
    "\n",
    "# Drop 19, 20, 35, 34, 32 and 43\n",
    "\n",
    "\n",
    "\n",
    "\n",
    "# X = X_train[:50000]\n",
    "# y = y_train[:50000]\n",
    "# val_X = X_train[50000:70000]\n",
    "# val_y = y_train[50000:70000]\n",
    "# test_x = X_train[70000:]\n",
    "# test_y = y_train[70000:]"
   ]
  },
  {
   "cell_type": "code",
   "execution_count": 345,
   "metadata": {},
   "outputs": [],
   "source": [
    "# from sklearn.feature_selection import SelectKBest\n",
    "# from sklearn.feature_selection import chi2\n",
    "# # feature extraction\n",
    "# test = SelectKBest(score_func=chi2, k=12)\n",
    "# fit = test.fit(val_X, val_y)\n",
    "# # summarize scores\n",
    "# np.set_printoptions(precision=3)\n",
    "# print(fit.scores_)\n",
    "# features = fit.transform(X)\n",
    "# # summarize selected features\n",
    "# print(features[0:10,:])"
   ]
  },
  {
   "cell_type": "code",
   "execution_count": 346,
   "metadata": {},
   "outputs": [],
   "source": [
    "# a = [1.579e+04, 2.668e+03, 1.420e+04, 2.422e+03, 4.398e+03, 4.909e+06, 4.155e+07,\n",
    "#  1.472e+07, 7.266e+07, 1.016e+08, 2.479e+06, 1.546e+06, 3.889e+07, 1.979e+08,\n",
    "#  5.342e+07, 1.262e+03, 1.482e+03, 1.475e+03, 1.357e+03, 1.243e+03, 2.489e+04,\n",
    "#  2.661e+06, 1.773e+06, 3.800e+04, 7.827e+05, 2.086e+06, 1.798e+06, 1.936e+07,\n",
    "#  1.708e+06, 7.711e+04, 3.581e+04, 5.562e+05, 3.228e+03, 1.003e+03, 1.165e+03,\n",
    "#  2.175e+03, 4.518e+03, 1.881e+03, 7.315e+02, 2.664e+02, 3.403e+02, 8.375e+02,\n",
    "#  3.037e+03, 6.543e+00, 2.754e+01, 4.569e+02, 6.566e+02]\n"
   ]
  },
  {
   "cell_type": "code",
   "execution_count": 347,
   "metadata": {},
   "outputs": [
    {
     "data": {
      "text/plain": [
       "(25000, 47)"
      ]
     },
     "execution_count": 347,
     "metadata": {},
     "output_type": "execute_result"
    }
   ],
   "source": [
    "test.shape"
   ]
  },
  {
   "cell_type": "code",
   "execution_count": 348,
   "metadata": {},
   "outputs": [],
   "source": [
    "# for i in range(12):\n",
    "#     print(a.index(b[i])+1)"
   ]
  },
  {
   "cell_type": "code",
   "execution_count": 349,
   "metadata": {},
   "outputs": [],
   "source": [
    "# b = [197900000.0,\n",
    "#  101600000.0,\n",
    "#  72660000.0,\n",
    "#  53420000.0,\n",
    "#  41550000.0,\n",
    "#  38890000.0,\n",
    "#  19360000.0,\n",
    "#  14720000.0,\n",
    "#  4909000.0,\n",
    "#  2661000.0,\n",
    "#  2479000.0,\n",
    "#  2086000.0]"
   ]
  },
  {
   "cell_type": "code",
   "execution_count": 350,
   "metadata": {},
   "outputs": [],
   "source": [
    "# # Feature Extraction with PCA\n",
    "# from sklearn.decomposition import PCA\n",
    "# # feature extraction\n",
    "# pca = PCA(n_components=12)\n",
    "# fit = pca.fit(X)\n",
    "# # summarize components\n",
    "# print((\"Explained Variance: %s\") % fit.explained_variance_ratio_)\n",
    "# print(fit.components_)"
   ]
  },
  {
   "cell_type": "code",
   "execution_count": 351,
   "metadata": {},
   "outputs": [],
   "source": [
    "# X = np.dot(X, fit.components_.T)"
   ]
  },
  {
   "cell_type": "code",
   "execution_count": 352,
   "metadata": {},
   "outputs": [
    {
     "data": {
      "text/plain": [
       "(25000, 47)"
      ]
     },
     "execution_count": 352,
     "metadata": {},
     "output_type": "execute_result"
    }
   ],
   "source": [
    "test.shape"
   ]
  },
  {
   "cell_type": "code",
   "execution_count": 353,
   "metadata": {},
   "outputs": [],
   "source": [
    "# test_x = np.dot(test_x, fit.components_.T)"
   ]
  },
  {
   "cell_type": "code",
   "execution_count": 354,
   "metadata": {},
   "outputs": [],
   "source": [
    "# univariate selection\n",
    "# column = ['mvar14', 'mvar10', 'mvar9', 'mvar15', 'mvar7', 'mvar13', 'mvar28', 'mvar8', 'mvar6', 'mvar22', 'mvar11', 'mvar26']\n",
    "# X = X[column]\n",
    "# test_x = test_x[column]\n",
    "# test = test[column]"
   ]
  },
  {
   "cell_type": "code",
   "execution_count": 355,
   "metadata": {},
   "outputs": [],
   "source": [
    "# test = np.dot(test, fit.components_.T)"
   ]
  },
  {
   "cell_type": "code",
   "execution_count": null,
   "metadata": {},
   "outputs": [],
   "source": []
  },
  {
   "cell_type": "code",
   "execution_count": 356,
   "metadata": {},
   "outputs": [],
   "source": [
    "# # L = 0\n",
    "# from sklearn.preprocessing import LabelEncoder\n",
    "# x_train.mvar47 = LabelEncoder().fit_transform(x_train.mvar47) \n",
    "# val_x.mvar47 = LabelEncoder().fit_transform(val_x.mvar47)\n",
    "# sub_test.mvar47 = LabelEncoder().fit_transform(sub_test.mvar47)\n",
    "\n",
    "\n"
   ]
  },
  {
   "cell_type": "code",
   "execution_count": 357,
   "metadata": {},
   "outputs": [],
   "source": [
    "# # Train, Validation and Test Set Declaration\n",
    "# # sub_test is the performance set\n",
    "\n",
    "# X = x_train[:70000]\n",
    "# y = y_train[:70000]\n",
    "\n",
    "# test_X = x_train[70000:]\n",
    "# test_y = y_train[70000:]\n",
    "\n",
    "# val_x.head()\n",
    "# sub_test.head()"
   ]
  },
  {
   "cell_type": "code",
   "execution_count": 358,
   "metadata": {},
   "outputs": [],
   "source": [
    "# from sklearn.linear_model import LogisticRegression\n",
    "from sklearn import metrics\n",
    "# from sklearn.ensemble import RandomForestClassifier\n",
    "\n",
    "\n",
    "# clf = LogisticRegression(random_state=0, solver='lbfgs',\n",
    "#                          multi_class='ovr').fit(X, y)"
   ]
  },
  {
   "cell_type": "code",
   "execution_count": 359,
   "metadata": {},
   "outputs": [],
   "source": [
    "# y_predicted = clf.predict(test_X)"
   ]
  },
  {
   "cell_type": "code",
   "execution_count": 361,
   "metadata": {},
   "outputs": [
    {
     "data": {
      "text/plain": [
       "(25000, 47)"
      ]
     },
     "execution_count": 361,
     "metadata": {},
     "output_type": "execute_result"
    }
   ],
   "source": [
    "# np.mean(y_predicted == test_y)\n",
    "test.shape"
   ]
  },
  {
   "cell_type": "code",
   "execution_count": 360,
   "metadata": {},
   "outputs": [],
   "source": [
    "column = ['mvar2', 'mvar33', 'mvar1', 'mvar29', 'mvar7', 'mvar25', 'mvar13', 'mvar44', 'mvar14', 'mvar10', 'mvar42', 'mvar15',\n",
    "          'mvar9', 'mvar11', 'mvar12', 'mvar24', 'mvar3', 'mvar30', 'mvar26', 'mvar32', 'mvar6', 'mvar21', 'mvar27', 'mvar8', 'mvar22', 'mvar36']\n"
   ]
  },
  {
   "cell_type": "code",
   "execution_count": 362,
   "metadata": {},
   "outputs": [],
   "source": [
    "X = X[column]\n",
    "val_X = val_X[column]\n",
    "test_x = test_x[column]\n",
    "test = test[column]"
   ]
  },
  {
   "cell_type": "code",
   "execution_count": null,
   "metadata": {},
   "outputs": [],
   "source": []
  },
  {
   "cell_type": "code",
   "execution_count": 312,
   "metadata": {},
   "outputs": [
    {
     "name": "stderr",
     "output_type": "stream",
     "text": [
      "/home/tannmay/anaconda3/lib/python3.6/site-packages/ipykernel_launcher.py:5: DataConversionWarning: A column-vector y was passed when a 1d array was expected. Please change the shape of y to (n_samples,), for example using ravel().\n",
      "  \"\"\"\n"
     ]
    },
    {
     "data": {
      "text/plain": [
       "0.7382"
      ]
     },
     "execution_count": 312,
     "metadata": {},
     "output_type": "execute_result"
    }
   ],
   "source": [
    "from sklearn.ensemble import RandomForestClassifier\n",
    "from sklearn import metrics\n",
    "\n",
    "classifier = RandomForestClassifier(n_estimators = 10, criterion = 'entropy', random_state = 0)\n",
    "classifier.fit(X, y)\n",
    "\n",
    "predicted_RandomForest = classifier.predict(test_x)\n",
    "metrics.accuracy_score(test_y, predicted_RandomForest, normalize=True, sample_weight=None)"
   ]
  },
  {
   "cell_type": "code",
   "execution_count": 313,
   "metadata": {},
   "outputs": [],
   "source": [
    "#        num_leaves: 16\n",
    "#      n_estimators: 246\n",
    "#         max_depth: 50\n",
    "#           max_bin: 128\n",
    "#  bagging_fraction: 1.0\n",
    "#  feature_fraction: 1.0\n",
    "#     boosting_type: dart\n",
    "#     learning_rate: 0.18456732832847952"
   ]
  },
  {
   "cell_type": "code",
   "execution_count": 452,
   "metadata": {},
   "outputs": [
    {
     "name": "stderr",
     "output_type": "stream",
     "text": [
      "/home/tannmay/.local/lib/python3.6/site-packages/sklearn/preprocessing/label.py:95: DataConversionWarning: A column-vector y was passed when a 1d array was expected. Please change the shape of y to (n_samples, ), for example using ravel().\n",
      "  y = column_or_1d(y, warn=True)\n",
      "/home/tannmay/.local/lib/python3.6/site-packages/sklearn/preprocessing/label.py:128: DataConversionWarning: A column-vector y was passed when a 1d array was expected. Please change the shape of y to (n_samples, ), for example using ravel().\n",
      "  y = column_or_1d(y, warn=True)\n",
      "/home/tannmay/.local/lib/python3.6/site-packages/sklearn/preprocessing/label.py:151: DeprecationWarning: The truth value of an empty array is ambiguous. Returning False, but in future this will result in an error. Use `array.size > 0` to check that an array is not empty.\n",
      "  if diff:\n"
     ]
    }
   ],
   "source": [
    "def get_lgb_model():\n",
    "    lgb_model = lgb.LGBMClassifier(objective='binary',num_leaves=43,\n",
    "                      learning_rate=0.05,boosting_type='gbdt', n_estimators=50, max_depth=10,\n",
    "                      metric='multi_logloss',is_training_metric=True,\n",
    "                      max_bin = 1024, bagging_fraction = 1.0,verbose=-1,\n",
    "                      bagging_freq = 100, feature_fraction = 1.0) \n",
    "    return lgb_model\n",
    "\n",
    "import lightgbm as lgb\n",
    "\n",
    "lgb_model = get_lgb_model()\n",
    "lgb_model.fit(X, y)\n",
    "target_hat = lgb_model.predict(test_x)"
   ]
  },
  {
   "cell_type": "code",
   "execution_count": 453,
   "metadata": {},
   "outputs": [
    {
     "data": {
      "text/plain": [
       "0.7702"
      ]
     },
     "execution_count": 453,
     "metadata": {},
     "output_type": "execute_result"
    }
   ],
   "source": [
    "metrics.accuracy_score(test_y, target_hat, normalize=True, sample_weight=None)"
   ]
  },
  {
   "cell_type": "code",
   "execution_count": null,
   "metadata": {},
   "outputs": [],
   "source": [
    "metrics.accuracy_score(test_y, target_hat, normalize=True, sample_weight=None)"
   ]
  },
  {
   "cell_type": "code",
   "execution_count": 316,
   "metadata": {},
   "outputs": [],
   "source": [
    "import xgboost"
   ]
  },
  {
   "cell_type": "code",
   "execution_count": 320,
   "metadata": {},
   "outputs": [],
   "source": [
    "xgb_params = {\n",
    "    \"objective\" : \"multi:softprob\",\n",
    "    \"num_class\" : 2,\n",
    "    \"tree_method\" : \"auto\",\n",
    "    \"eval_metric\" : \"mlogloss\",\n",
    "    \"nthread\": 4,\n",
    "    \"seed\" : 0,\n",
    "    'silent': 1,\n",
    "\n",
    "    \"eta\":0.250,  # default 0.3\n",
    "    \"max_depth\" : 15, # default 6\n",
    "    \"subsample\" : 0.957, # default 1\n",
    "    \"colsample_bytree\" : 0.4390, # default 1\n",
    "    \"gamma\": 0.5\n",
    "}\n"
   ]
  },
  {
   "cell_type": "code",
   "execution_count": 321,
   "metadata": {},
   "outputs": [
    {
     "name": "stderr",
     "output_type": "stream",
     "text": [
      "/home/tannmay/.local/lib/python3.6/site-packages/sklearn/preprocessing/label.py:95: DataConversionWarning: A column-vector y was passed when a 1d array was expected. Please change the shape of y to (n_samples, ), for example using ravel().\n",
      "  y = column_or_1d(y, warn=True)\n",
      "/home/tannmay/.local/lib/python3.6/site-packages/sklearn/preprocessing/label.py:128: DataConversionWarning: A column-vector y was passed when a 1d array was expected. Please change the shape of y to (n_samples, ), for example using ravel().\n",
      "  y = column_or_1d(y, warn=True)\n",
      "/home/tannmay/.local/lib/python3.6/site-packages/sklearn/preprocessing/label.py:151: DeprecationWarning: The truth value of an empty array is ambiguous. Returning False, but in future this will result in an error. Use `array.size > 0` to check that an array is not empty.\n",
      "  if diff:\n"
     ]
    },
    {
     "data": {
      "text/plain": [
       "0.7452"
      ]
     },
     "execution_count": 321,
     "metadata": {},
     "output_type": "execute_result"
    }
   ],
   "source": [
    "model = xgboost.XGBClassifier(**xgb_params)\n",
    "model.fit(X, y)\n",
    "y_pred = model.predict(test_x)\n",
    "metrics.accuracy_score(test_y, y_pred, normalize=True, sample_weight=None)"
   ]
  },
  {
   "cell_type": "code",
   "execution_count": 322,
   "metadata": {},
   "outputs": [
    {
     "name": "stderr",
     "output_type": "stream",
     "text": [
      "/home/tannmay/.local/lib/python3.6/site-packages/sklearn/preprocessing/label.py:151: DeprecationWarning: The truth value of an empty array is ambiguous. Returning False, but in future this will result in an error. Use `array.size > 0` to check that an array is not empty.\n",
      "  if diff:\n"
     ]
    }
   ],
   "source": [
    "y_prediction = model.predict(test)\n"
   ]
  },
  {
   "cell_type": "code",
   "execution_count": null,
   "metadata": {},
   "outputs": [],
   "source": []
  },
  {
   "cell_type": "code",
   "execution_count": null,
   "metadata": {},
   "outputs": [],
   "source": []
  },
  {
   "cell_type": "code",
   "execution_count": null,
   "metadata": {},
   "outputs": [],
   "source": []
  },
  {
   "cell_type": "code",
   "execution_count": null,
   "metadata": {},
   "outputs": [],
   "source": []
  },
  {
   "cell_type": "code",
   "execution_count": null,
   "metadata": {},
   "outputs": [],
   "source": []
  },
  {
   "cell_type": "code",
   "execution_count": null,
   "metadata": {},
   "outputs": [],
   "source": []
  },
  {
   "cell_type": "code",
   "execution_count": null,
   "metadata": {},
   "outputs": [],
   "source": []
  },
  {
   "cell_type": "code",
   "execution_count": null,
   "metadata": {},
   "outputs": [],
   "source": []
  },
  {
   "cell_type": "code",
   "execution_count": null,
   "metadata": {},
   "outputs": [],
   "source": []
  },
  {
   "cell_type": "code",
   "execution_count": null,
   "metadata": {},
   "outputs": [],
   "source": []
  },
  {
   "cell_type": "code",
   "execution_count": null,
   "metadata": {},
   "outputs": [],
   "source": []
  },
  {
   "cell_type": "code",
   "execution_count": null,
   "metadata": {},
   "outputs": [],
   "source": []
  },
  {
   "cell_type": "code",
   "execution_count": null,
   "metadata": {},
   "outputs": [],
   "source": []
  },
  {
   "cell_type": "code",
   "execution_count": null,
   "metadata": {},
   "outputs": [],
   "source": []
  },
  {
   "cell_type": "code",
   "execution_count": null,
   "metadata": {},
   "outputs": [],
   "source": []
  },
  {
   "cell_type": "code",
   "execution_count": null,
   "metadata": {},
   "outputs": [],
   "source": []
  },
  {
   "cell_type": "code",
   "execution_count": 233,
   "metadata": {},
   "outputs": [],
   "source": [
    "# ID = test[\"application_key\"]\n",
    "# # sub_test = sub_test.drop(\"application_key\", axis=1)"
   ]
  },
  {
   "cell_type": "code",
   "execution_count": 234,
   "metadata": {},
   "outputs": [],
   "source": [
    "d = {'Id': ID, 'Target': y_prediction}\n",
    "submission = pd.DataFrame(data=d)\n",
    "submission.to_csv('submission.csv', header = False, index=False)\n"
   ]
  },
  {
   "cell_type": "code",
   "execution_count": null,
   "metadata": {},
   "outputs": [],
   "source": []
  },
  {
   "cell_type": "code",
   "execution_count": null,
   "metadata": {},
   "outputs": [],
   "source": []
  },
  {
   "cell_type": "code",
   "execution_count": null,
   "metadata": {},
   "outputs": [],
   "source": []
  },
  {
   "cell_type": "code",
   "execution_count": null,
   "metadata": {},
   "outputs": [],
   "source": []
  }
 ],
 "metadata": {
  "kernelspec": {
   "display_name": "Python 3",
   "language": "python",
   "name": "python3"
  },
  "language_info": {
   "codemirror_mode": {
    "name": "ipython",
    "version": 3
   },
   "file_extension": ".py",
   "mimetype": "text/x-python",
   "name": "python",
   "nbconvert_exporter": "python",
   "pygments_lexer": "ipython3",
   "version": "3.6.5"
  }
 },
 "nbformat": 4,
 "nbformat_minor": 2
}
