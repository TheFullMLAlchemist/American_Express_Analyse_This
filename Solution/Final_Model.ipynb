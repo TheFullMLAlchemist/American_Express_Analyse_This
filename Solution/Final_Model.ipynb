{
 "cells": [
  {
   "cell_type": "code",
   "execution_count": 1,
   "metadata": {},
   "outputs": [
    {
     "name": "stderr",
     "output_type": "stream",
     "text": [
      "/home/tannmay/anaconda3/lib/python3.6/importlib/_bootstrap.py:219: RuntimeWarning: numpy.dtype size changed, may indicate binary incompatibility. Expected 96, got 88\n",
      "  return f(*args, **kwds)\n",
      "/home/tannmay/anaconda3/lib/python3.6/importlib/_bootstrap.py:219: RuntimeWarning: numpy.dtype size changed, may indicate binary incompatibility. Expected 96, got 88\n",
      "  return f(*args, **kwds)\n"
     ]
    }
   ],
   "source": [
    "# This Python 3 environment comes with many helpful analytics libraries installed\n",
    "# It is defined by the kaggle/python docker image: https://github.com/kaggle/docker-python\n",
    "# For example, here's several helpful packages to load in \n",
    "\n",
    "import numpy as np # linear algebra\n",
    "import pandas as pd # data processing, CSV file I/O (e.g. pd.read_csv)\n",
    "\n",
    "# Input data files are available in the \"../input/\" directory.\n",
    "# For example, running this (by clicking run or pressing Shift+Enter) will list the files in the input directory\n",
    "\n",
    "import os\n",
    "import math\n",
    "# Any results you write to the current directory are saved as output."
   ]
  },
  {
   "cell_type": "code",
   "execution_count": 2,
   "metadata": {},
   "outputs": [
    {
     "name": "stderr",
     "output_type": "stream",
     "text": [
      "/home/tannmay/.local/lib/python3.6/site-packages/IPython/core/interactiveshell.py:2785: DtypeWarning: Columns (18) have mixed types. Specify dtype option on import or set low_memory=False.\n",
      "  interactivity=interactivity, compiler=compiler, result=result)\n"
     ]
    }
   ],
   "source": [
    "X_train = pd.read_csv(\"x_train_imputed.csv\")\n",
    "y_train = pd.read_csv(\"y_train_imputed.csv\")\n",
    "val_X = pd.read_csv(\"val_X_imputed.csv\")\n",
    "evaluation = pd.read_csv(\"Evaluation_dataset.csv\")\n",
    "# test = pd.read_csv(\"newtest.csv\")\n",
    "test = pd.read_csv(\"test_imputed.csv\")\n",
    "dic_df = pd.read_csv(\"Data_Dictionary.csv\")"
   ]
  },
  {
   "cell_type": "code",
   "execution_count": 3,
   "metadata": {},
   "outputs": [
    {
     "data": {
      "text/html": [
       "<div>\n",
       "<style scoped>\n",
       "    .dataframe tbody tr th:only-of-type {\n",
       "        vertical-align: middle;\n",
       "    }\n",
       "\n",
       "    .dataframe tbody tr th {\n",
       "        vertical-align: top;\n",
       "    }\n",
       "\n",
       "    .dataframe thead th {\n",
       "        text-align: right;\n",
       "    }\n",
       "</style>\n",
       "<table border=\"1\" class=\"dataframe\">\n",
       "  <thead>\n",
       "    <tr style=\"text-align: right;\">\n",
       "      <th></th>\n",
       "      <th>mvar1</th>\n",
       "      <th>mvar2</th>\n",
       "      <th>mvar3</th>\n",
       "      <th>mvar4</th>\n",
       "      <th>mvar5</th>\n",
       "      <th>mvar6</th>\n",
       "      <th>mvar7</th>\n",
       "      <th>mvar8</th>\n",
       "      <th>mvar9</th>\n",
       "      <th>mvar10</th>\n",
       "      <th>...</th>\n",
       "      <th>mvar38</th>\n",
       "      <th>mvar39</th>\n",
       "      <th>mvar40</th>\n",
       "      <th>mvar41</th>\n",
       "      <th>mvar42</th>\n",
       "      <th>mvar43</th>\n",
       "      <th>mvar44</th>\n",
       "      <th>mvar45</th>\n",
       "      <th>mvar46</th>\n",
       "      <th>mvar47</th>\n",
       "    </tr>\n",
       "  </thead>\n",
       "  <tbody>\n",
       "    <tr>\n",
       "      <th>0</th>\n",
       "      <td>1860.0</td>\n",
       "      <td>0.4668</td>\n",
       "      <td>0.212</td>\n",
       "      <td>0.0</td>\n",
       "      <td>0.0</td>\n",
       "      <td>1621.0</td>\n",
       "      <td>151211.0</td>\n",
       "      <td>22298.0</td>\n",
       "      <td>161588.0</td>\n",
       "      <td>207987.0</td>\n",
       "      <td>...</td>\n",
       "      <td>0.0</td>\n",
       "      <td>0.0</td>\n",
       "      <td>100.000</td>\n",
       "      <td>79.0105</td>\n",
       "      <td>0.00000</td>\n",
       "      <td>10</td>\n",
       "      <td>0.95597</td>\n",
       "      <td>0.0</td>\n",
       "      <td>0.0</td>\n",
       "      <td>C</td>\n",
       "    </tr>\n",
       "    <tr>\n",
       "      <th>1</th>\n",
       "      <td>1797.0</td>\n",
       "      <td>0.4451</td>\n",
       "      <td>0.000</td>\n",
       "      <td>0.0</td>\n",
       "      <td>0.0</td>\n",
       "      <td>920.0</td>\n",
       "      <td>8124.0</td>\n",
       "      <td>920.0</td>\n",
       "      <td>30429.0</td>\n",
       "      <td>14070.0</td>\n",
       "      <td>...</td>\n",
       "      <td>1.0</td>\n",
       "      <td>0.0</td>\n",
       "      <td>100.000</td>\n",
       "      <td>14.8880</td>\n",
       "      <td>0.00000</td>\n",
       "      <td>4</td>\n",
       "      <td>0.45250</td>\n",
       "      <td>0.0</td>\n",
       "      <td>0.0</td>\n",
       "      <td>C</td>\n",
       "    </tr>\n",
       "    <tr>\n",
       "      <th>2</th>\n",
       "      <td>1826.0</td>\n",
       "      <td>0.0423</td>\n",
       "      <td>0.000</td>\n",
       "      <td>0.0</td>\n",
       "      <td>0.0</td>\n",
       "      <td>3478.0</td>\n",
       "      <td>7209.0</td>\n",
       "      <td>3964.0</td>\n",
       "      <td>16054.0</td>\n",
       "      <td>24924.0</td>\n",
       "      <td>...</td>\n",
       "      <td>2.0</td>\n",
       "      <td>0.0</td>\n",
       "      <td>37.586</td>\n",
       "      <td>64.0020</td>\n",
       "      <td>0.09091</td>\n",
       "      <td>7</td>\n",
       "      <td>0.92384</td>\n",
       "      <td>0.0</td>\n",
       "      <td>0.0</td>\n",
       "      <td>C</td>\n",
       "    </tr>\n",
       "    <tr>\n",
       "      <th>3</th>\n",
       "      <td>1656.0</td>\n",
       "      <td>0.2726</td>\n",
       "      <td>41.623</td>\n",
       "      <td>0.0</td>\n",
       "      <td>0.0</td>\n",
       "      <td>4955.0</td>\n",
       "      <td>4955.0</td>\n",
       "      <td>4955.0</td>\n",
       "      <td>65010.0</td>\n",
       "      <td>0.0</td>\n",
       "      <td>...</td>\n",
       "      <td>0.0</td>\n",
       "      <td>0.0</td>\n",
       "      <td>100.000</td>\n",
       "      <td>79.0105</td>\n",
       "      <td>0.52632</td>\n",
       "      <td>0</td>\n",
       "      <td>0.00000</td>\n",
       "      <td>0.0</td>\n",
       "      <td>0.0</td>\n",
       "      <td>L</td>\n",
       "    </tr>\n",
       "    <tr>\n",
       "      <th>4</th>\n",
       "      <td>1915.0</td>\n",
       "      <td>0.4451</td>\n",
       "      <td>0.000</td>\n",
       "      <td>0.0</td>\n",
       "      <td>0.0</td>\n",
       "      <td>6918.0</td>\n",
       "      <td>7433.0</td>\n",
       "      <td>6918.0</td>\n",
       "      <td>7433.0</td>\n",
       "      <td>14351.0</td>\n",
       "      <td>...</td>\n",
       "      <td>0.0</td>\n",
       "      <td>0.0</td>\n",
       "      <td>100.000</td>\n",
       "      <td>79.0105</td>\n",
       "      <td>0.00000</td>\n",
       "      <td>2</td>\n",
       "      <td>1.00000</td>\n",
       "      <td>0.0</td>\n",
       "      <td>0.0</td>\n",
       "      <td>L</td>\n",
       "    </tr>\n",
       "  </tbody>\n",
       "</table>\n",
       "<p>5 rows × 47 columns</p>\n",
       "</div>"
      ],
      "text/plain": [
       "    mvar1   mvar2   mvar3  mvar4  mvar5   mvar6     mvar7    mvar8     mvar9  \\\n",
       "0  1860.0  0.4668   0.212    0.0    0.0  1621.0  151211.0  22298.0  161588.0   \n",
       "1  1797.0  0.4451   0.000    0.0    0.0   920.0    8124.0    920.0   30429.0   \n",
       "2  1826.0  0.0423   0.000    0.0    0.0  3478.0    7209.0   3964.0   16054.0   \n",
       "3  1656.0  0.2726  41.623    0.0    0.0  4955.0    4955.0   4955.0   65010.0   \n",
       "4  1915.0  0.4451   0.000    0.0    0.0  6918.0    7433.0   6918.0    7433.0   \n",
       "\n",
       "     mvar10  ...    mvar38  mvar39   mvar40   mvar41   mvar42  mvar43  \\\n",
       "0  207987.0  ...       0.0     0.0  100.000  79.0105  0.00000      10   \n",
       "1   14070.0  ...       1.0     0.0  100.000  14.8880  0.00000       4   \n",
       "2   24924.0  ...       2.0     0.0   37.586  64.0020  0.09091       7   \n",
       "3       0.0  ...       0.0     0.0  100.000  79.0105  0.52632       0   \n",
       "4   14351.0  ...       0.0     0.0  100.000  79.0105  0.00000       2   \n",
       "\n",
       "    mvar44  mvar45 mvar46 mvar47  \n",
       "0  0.95597     0.0    0.0      C  \n",
       "1  0.45250     0.0    0.0      C  \n",
       "2  0.92384     0.0    0.0      C  \n",
       "3  0.00000     0.0    0.0      L  \n",
       "4  1.00000     0.0    0.0      L  \n",
       "\n",
       "[5 rows x 47 columns]"
      ]
     },
     "execution_count": 3,
     "metadata": {},
     "output_type": "execute_result"
    }
   ],
   "source": [
    "val_X.head()"
   ]
  },
  {
   "cell_type": "code",
   "execution_count": 4,
   "metadata": {},
   "outputs": [],
   "source": [
    "from sklearn.preprocessing import LabelEncoder\n",
    "X_train.mvar47 = LabelEncoder().fit_transform(X_train.mvar47) \n",
    "val_X.mvar47 = LabelEncoder().fit_transform(val_X.mvar47)\n",
    "# val_X.mvar47 = LabelEncoder().fit_transform(test.mvar47)"
   ]
  },
  {
   "cell_type": "code",
   "execution_count": 5,
   "metadata": {},
   "outputs": [],
   "source": [
    "ID = evaluation[\"application_key\"]\n"
   ]
  },
  {
   "cell_type": "code",
   "execution_count": 6,
   "metadata": {},
   "outputs": [],
   "source": [
    "# Drop 19, 20, 35, 34, 32 and 43\n",
    "X_train=X_train.drop([\"mvar19\",\"mvar20\", \"mvar35\", \"mvar34\",\"mvar32\", \"mvar43\"],axis=1)"
   ]
  },
  {
   "cell_type": "code",
   "execution_count": 7,
   "metadata": {},
   "outputs": [],
   "source": [
    "# test=test[['mvar14', 'mvar47', 'mvar43', 'mvar3', 'mvar4', 'mvar5','mvar21', 'mvar22', 'mvar24', 'mvar33', 'mvar15', 'mvar37', 'mvar39','mvar40', 'mvar1', 'mvar7', 'mvar26', 'mvar27', 'mvar19', 'mvar20']]"
   ]
  },
  {
   "cell_type": "code",
   "execution_count": 8,
   "metadata": {},
   "outputs": [],
   "source": [
    "X_train.mvar3 = (X_train.mvar3 + X_train.mvar4 + X_train.mvar5) / 3\n",
    "X_train = X_train.drop([\"mvar4\", \"mvar5\"], axis=1)\n"
   ]
  },
  {
   "cell_type": "code",
   "execution_count": 9,
   "metadata": {},
   "outputs": [],
   "source": [
    "X_train.mvar7 = X_train.mvar7 - X_train.mvar10\n",
    "X_train.mvar7 = abs(X_train.mvar7)\n",
    "X_train = X_train.drop(\"mvar10\", axis=1)"
   ]
  },
  {
   "cell_type": "code",
   "execution_count": 10,
   "metadata": {},
   "outputs": [],
   "source": [
    "X_train.mvar12 = X_train.mvar12 - X_train.mvar11\n",
    "X_train.mvar12 = abs(X_train.mvar12)\n",
    "X_train = X_train.drop(\"mvar11\", axis=1)"
   ]
  },
  {
   "cell_type": "code",
   "execution_count": 11,
   "metadata": {},
   "outputs": [],
   "source": [
    "X_train.mvar13 = (X_train.mvar15 + X_train.mvar14 - X_train.mvar13) \n",
    "X_train = X_train.drop([\"mvar14\", \"mvar15\"], axis=1)"
   ]
  },
  {
   "cell_type": "code",
   "execution_count": 12,
   "metadata": {},
   "outputs": [],
   "source": [
    "X_train.mvar22 = np.multiply(X_train.mvar22, X_train.mvar38)\n",
    "X_train = X_train.drop(\"mvar38\", axis=1)"
   ]
  },
  {
   "cell_type": "code",
   "execution_count": 13,
   "metadata": {},
   "outputs": [],
   "source": [
    "X_train.mvar27 = X_train.mvar27 - X_train.mvar25\n",
    "X_train.mvar27 = abs(X_train.mvar7)\n",
    "X_train = X_train.drop(\"mvar25\", axis=1)"
   ]
  },
  {
   "cell_type": "code",
   "execution_count": 14,
   "metadata": {},
   "outputs": [],
   "source": [
    "X_train.mvar40 = X_train.mvar40 / X_train.mvar31\n",
    "X_train = X_train.drop(\"mvar31\", axis=1)"
   ]
  },
  {
   "cell_type": "code",
   "execution_count": 15,
   "metadata": {},
   "outputs": [],
   "source": [
    "X_train.mvar41 = X_train.mvar41 / X_train.mvar30\n",
    "X_train = X_train.drop(\"mvar30\", axis=1)"
   ]
  },
  {
   "cell_type": "code",
   "execution_count": 16,
   "metadata": {},
   "outputs": [],
   "source": [
    "X_train.mvar45 = X_train.mvar45 + X_train.mvar46\n",
    "X_train = X_train.drop(\"mvar46\", axis=1)"
   ]
  },
  {
   "cell_type": "code",
   "execution_count": 17,
   "metadata": {},
   "outputs": [],
   "source": [
    "val_X.mvar3 = (val_X.mvar3 + val_X.mvar4 + val_X.mvar5) / 3\n",
    "val_X = val_X.drop([\"mvar4\", \"mvar5\"], axis=1)\n",
    "\n",
    "\n",
    "val_X.mvar7 = val_X.mvar7 - val_X.mvar10\n",
    "val_X.mvar7 = abs(val_X.mvar7)\n",
    "val_X = val_X.drop(\"mvar10\", axis=1)\n",
    "\n",
    "val_X.mvar12 = val_X.mvar12 - val_X.mvar11\n",
    "val_X.mvar12 = abs(val_X.mvar12)\n",
    "val_X = val_X.drop(\"mvar11\", axis=1)\n",
    "\n",
    "val_X.mvar13 = (val_X.mvar15 + val_X.mvar14 - val_X.mvar13) \n",
    "val_X = val_X.drop([\"mvar14\", \"mvar15\"], axis=1)\n",
    "\n",
    "val_X.mvar22 = np.multiply(val_X.mvar22, val_X.mvar38)\n",
    "val_X = val_X.drop(\"mvar38\", axis=1)\n",
    "\n",
    "val_X.mvar27 = val_X.mvar27 - val_X.mvar25\n",
    "val_X.mvar27 = abs(val_X.mvar7)\n",
    "val_X = val_X.drop(\"mvar25\", axis=1)\n",
    "\n",
    "val_X.mvar40 = val_X.mvar40 / val_X.mvar31\n",
    "val_X = val_X.drop(\"mvar31\", axis=1)\n",
    "\n",
    "val_X.mvar41 = val_X.mvar41 / val_X.mvar30\n",
    "val_X = val_X.drop(\"mvar30\", axis=1)\n",
    "\n",
    "val_X.mvar45 = val_X.mvar45 + val_X.mvar46\n",
    "val_X = val_X.drop(\"mvar46\", axis=1)"
   ]
  },
  {
   "cell_type": "code",
   "execution_count": 18,
   "metadata": {},
   "outputs": [],
   "source": [
    "val_X = val_X.drop([\"mvar19\",\"mvar20\", \"mvar35\", \"mvar34\",\"mvar32\", \"mvar43\"],axis=1)"
   ]
  },
  {
   "cell_type": "code",
   "execution_count": 19,
   "metadata": {},
   "outputs": [],
   "source": [
    "X = X_train[:70000]\n",
    "y = y_train[:70000]\n",
    "X_test = X_train[70000:]\n",
    "y_test = y_train[70000:]"
   ]
  },
  {
   "cell_type": "code",
   "execution_count": 20,
   "metadata": {},
   "outputs": [],
   "source": [
    "df = {'ID': [], 'prob': [], 'pred': []}\n",
    "\n",
    "prediction = pd.DataFrame(df)"
   ]
  },
  {
   "cell_type": "code",
   "execution_count": 21,
   "metadata": {},
   "outputs": [],
   "source": [
    "prediction[\"ID\"] = ID"
   ]
  },
  {
   "cell_type": "code",
   "execution_count": 22,
   "metadata": {},
   "outputs": [],
   "source": [
    "# BayesianCV Optimization Result\n",
    "#        num_leaves: 16\n",
    "#      n_estimators: 246\n",
    "#         max_depth: 50\n",
    "#           max_bin: 128\n",
    "#  bagging_fraction: 1.0\n",
    "#  feature_fraction: 1.0\n",
    "#     boosting_type: dart\n",
    "#     learning_rate: 0.18456732832847952\n",
    "\n",
    "def get_lgb_model():\n",
    "    lgb_model = lgb.LGBMClassifier(objective='binary',num_leaves=230,boosting_type='gbdt',\n",
    "                      learning_rate=0.0128, n_estimators=409, max_depth=30,\n",
    "                      max_bin = 69, bagging_fraction = 0.8,verbose=-1,\n",
    "                      bagging_freq = 5, feature_fraction = 0.8) \n",
    "    return lgb_model"
   ]
  },
  {
   "cell_type": "code",
   "execution_count": 23,
   "metadata": {},
   "outputs": [
    {
     "name": "stderr",
     "output_type": "stream",
     "text": [
      "/home/tannmay/.local/lib/python3.6/site-packages/sklearn/preprocessing/label.py:95: DataConversionWarning: A column-vector y was passed when a 1d array was expected. Please change the shape of y to (n_samples, ), for example using ravel().\n",
      "  y = column_or_1d(y, warn=True)\n",
      "/home/tannmay/.local/lib/python3.6/site-packages/sklearn/preprocessing/label.py:128: DataConversionWarning: A column-vector y was passed when a 1d array was expected. Please change the shape of y to (n_samples, ), for example using ravel().\n",
      "  y = column_or_1d(y, warn=True)\n",
      "/home/tannmay/.local/lib/python3.6/site-packages/sklearn/preprocessing/label.py:151: DeprecationWarning: The truth value of an empty array is ambiguous. Returning False, but in future this will result in an error. Use `array.size > 0` to check that an array is not empty.\n",
      "  if diff:\n",
      "/home/tannmay/.local/lib/python3.6/site-packages/sklearn/preprocessing/label.py:151: DeprecationWarning: The truth value of an empty array is ambiguous. Returning False, but in future this will result in an error. Use `array.size > 0` to check that an array is not empty.\n",
      "  if diff:\n"
     ]
    }
   ],
   "source": [
    "import lightgbm as lgb\n",
    "\n",
    "lgb_model = get_lgb_model()\n",
    "lgb_model.fit(X, y)\n",
    "target_hat = lgb_model.predict(X_test)\n",
    "prediction1 = lgb_model.predict(X)\n",
    "prob = lgb_model.predict_proba(val_X)"
   ]
  },
  {
   "cell_type": "code",
   "execution_count": 24,
   "metadata": {},
   "outputs": [
    {
     "data": {
      "text/plain": [
       "0.783"
      ]
     },
     "execution_count": 24,
     "metadata": {},
     "output_type": "execute_result"
    }
   ],
   "source": [
    "from sklearn import metrics\n",
    "metrics.accuracy_score(y_test, target_hat, normalize=True, sample_weight=None)"
   ]
  },
  {
   "cell_type": "code",
   "execution_count": 25,
   "metadata": {},
   "outputs": [
    {
     "data": {
      "text/plain": [
       "0.8722571428571428"
      ]
     },
     "execution_count": 25,
     "metadata": {},
     "output_type": "execute_result"
    }
   ],
   "source": [
    "metrics.accuracy_score(y, prediction1, normalize=True, sample_weight=None)"
   ]
  },
  {
   "cell_type": "code",
   "execution_count": 65,
   "metadata": {},
   "outputs": [],
   "source": [
    "predic = []\n",
    "\n",
    "for i in range(len(val_X)):\n",
    "    predic.append(prob[i][0])"
   ]
  },
  {
   "cell_type": "code",
   "execution_count": 66,
   "metadata": {},
   "outputs": [],
   "source": [
    "prediction[\"prob\"] = predic"
   ]
  },
  {
   "cell_type": "code",
   "execution_count": 67,
   "metadata": {},
   "outputs": [],
   "source": [
    "prediction = prediction.sort_values(by=\"prob\", ascending=False)"
   ]
  },
  {
   "cell_type": "code",
   "execution_count": 68,
   "metadata": {},
   "outputs": [
    {
     "name": "stderr",
     "output_type": "stream",
     "text": [
      "/home/tannmay/anaconda3/lib/python3.6/site-packages/ipykernel_launcher.py:3: SettingWithCopyWarning: \n",
      "A value is trying to be set on a copy of a slice from a DataFrame\n",
      "\n",
      "See the caveats in the documentation: http://pandas.pydata.org/pandas-docs/stable/indexing.html#indexing-view-versus-copy\n",
      "  This is separate from the ipykernel package so we can avoid doing imports until\n"
     ]
    },
    {
     "name": "stdout",
     "output_type": "stream",
     "text": [
      "0\n"
     ]
    },
    {
     "name": "stderr",
     "output_type": "stream",
     "text": [
      "/home/tannmay/anaconda3/lib/python3.6/site-packages/ipykernel_launcher.py:5: SettingWithCopyWarning: \n",
      "A value is trying to be set on a copy of a slice from a DataFrame\n",
      "\n",
      "See the caveats in the documentation: http://pandas.pydata.org/pandas-docs/stable/indexing.html#indexing-view-versus-copy\n",
      "  \"\"\"\n"
     ]
    },
    {
     "name": "stdout",
     "output_type": "stream",
     "text": [
      "1000\n",
      "2000\n",
      "3000\n",
      "4000\n",
      "5000\n",
      "6000\n",
      "7000\n",
      "8000\n",
      "9000\n",
      "10000\n",
      "11000\n",
      "12000\n",
      "13000\n",
      "14000\n",
      "15000\n",
      "16000\n",
      "17000\n",
      "18000\n",
      "19000\n",
      "20000\n",
      "21000\n",
      "22000\n",
      "23000\n",
      "24000\n"
     ]
    }
   ],
   "source": [
    "for i in range(len(prediction[\"prob\"])):\n",
    "    if prediction[\"prob\"][i] > 0.7:\n",
    "        prediction[\"pred\"][i] = 0\n",
    "    else:\n",
    "        prediction[\"pred\"][i] = 1\n",
    "    if i%1000 == 0:\n",
    "        print(i)"
   ]
  },
  {
   "cell_type": "code",
   "execution_count": null,
   "metadata": {},
   "outputs": [],
   "source": []
  },
  {
   "cell_type": "code",
   "execution_count": 85,
   "metadata": {},
   "outputs": [],
   "source": [
    "d = {'Id': prediction[\"ID\"], 'Target': prediction[\"pred\"]}\n",
    "submission = pd.DataFrame(data=d)\n",
    "submission.to_csv('Give_us_some_credit_IITKharagpur.csv', header = False, index=False)\n"
   ]
  }
 ],
 "metadata": {
  "kernelspec": {
   "display_name": "Python 3",
   "language": "python",
   "name": "python3"
  },
  "language_info": {
   "codemirror_mode": {
    "name": "ipython",
    "version": 3
   },
   "file_extension": ".py",
   "mimetype": "text/x-python",
   "name": "python",
   "nbconvert_exporter": "python",
   "pygments_lexer": "ipython3",
   "version": "3.6.5"
  }
 },
 "nbformat": 4,
 "nbformat_minor": 2
}
